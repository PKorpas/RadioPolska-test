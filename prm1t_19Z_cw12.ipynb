{
  "nbformat": 4,
  "nbformat_minor": 0,
  "metadata": {
    "colab": {
      "name": "prm1t_19Z_cw12.ipynb",
      "provenance": [],
      "collapsed_sections": [
        "ecPR561QR_7l",
        "3fdr2ElTQNwR",
        "S9nX3TtpRMu_"
      ],
      "include_colab_link": true
    },
    "kernelspec": {
      "name": "python3",
      "display_name": "Python 3"
    }
  },
  "cells": [
    {
      "cell_type": "markdown",
      "metadata": {
        "id": "view-in-github",
        "colab_type": "text"
      },
      "source": [
        "<a href=\"https://colab.research.google.com/github/PKorpas/RadioPolska-test/blob/master/prm1t_19Z_cw12.ipynb\" target=\"_parent\"><img src=\"https://colab.research.google.com/assets/colab-badge.svg\" alt=\"Open In Colab\"/></a>"
      ]
    },
    {
      "cell_type": "markdown",
      "metadata": {
        "id": "HG4yFSRhr-bS",
        "colab_type": "text"
      },
      "source": [
        "### Podstawy programowania 1 - semestr 19Z\n",
        "\n",
        "# Ćwiczenia 12: Odczyt i zapis danych z/do plików w formacie JSON"
      ]
    },
    {
      "cell_type": "markdown",
      "metadata": {
        "id": "MmRKh4dhs91e",
        "colab_type": "text"
      },
      "source": [
        "## [Format JSON](https://www.json.org/json-en.html)"
      ]
    },
    {
      "cell_type": "markdown",
      "metadata": {
        "id": "IvLrXpl1xdkH",
        "colab_type": "text"
      },
      "source": [
        "```\n",
        "{\n",
        "    \"batch size\": 10,\n",
        "    \"net\": \"neta\",\n",
        "    \"image width\": 784,\n",
        "    \"image height\": 0,\n",
        "    \"number of classes\": 10,\n",
        "    \"number of epochs\": 10,\n",
        "    \"optimizer\": \"Adam\",\n",
        "    \"optimizer parameters\": {\n",
        "        \"lr\": 0.001\n",
        "    }\n",
        "}\n",
        "```"
      ]
    },
    {
      "cell_type": "markdown",
      "metadata": {
        "id": "ecPR561QR_7l",
        "colab_type": "text"
      },
      "source": [
        "#### Google Drive"
      ]
    },
    {
      "cell_type": "code",
      "metadata": {
        "id": "6wmDOaJP3TKt",
        "colab_type": "code",
        "outputId": "d89924ed-8483-4852-b12e-6d3ef3977b64",
        "colab": {
          "base_uri": "https://localhost:8080/",
          "height": 129
        }
      },
      "source": [
        "from google.colab import drive\n",
        "drive.mount('/content/drive')"
      ],
      "execution_count": 0,
      "outputs": [
        {
          "output_type": "stream",
          "text": [
            "Go to this URL in a browser: https://accounts.google.com/o/oauth2/auth?client_id=947318989803-6bn6qk8qdgf4n4g3pfee6491hc0brc4i.apps.googleusercontent.com&redirect_uri=urn%3aietf%3awg%3aoauth%3a2.0%3aoob&response_type=code&scope=email%20https%3a%2f%2fwww.googleapis.com%2fauth%2fdocs.test%20https%3a%2f%2fwww.googleapis.com%2fauth%2fdrive%20https%3a%2f%2fwww.googleapis.com%2fauth%2fdrive.photos.readonly%20https%3a%2f%2fwww.googleapis.com%2fauth%2fpeopleapi.readonly\n",
            "\n",
            "Enter your authorization code:\n",
            "··········\n",
            "Mounted at /content/drive\n"
          ],
          "name": "stdout"
        }
      ]
    },
    {
      "cell_type": "code",
      "metadata": {
        "id": "cOQnE6LS3XzB",
        "colab_type": "code",
        "outputId": "e9a748e7-5074-4b5b-a9b8-9d2249678cee",
        "colab": {
          "base_uri": "https://localhost:8080/",
          "height": 219
        }
      },
      "source": [
        "!ls /content/drive/My\\ Drive"
      ],
      "execution_count": 0,
      "outputs": [
        {
          "output_type": "stream",
          "text": [
            "'Colab Notebooks'\n",
            " Designing_Distributed_Systems.pdf\n",
            " DKarwowski_ZrozumiecKompresjeObrazu.pdf\n",
            " Embedded_Machine_Learning_Design_FD_Arm_Special_Edition_.pdf\n",
            " JBL_T110BT_QSG_Multilingual.pdf\n",
            " JVET-E1003-v3wmarkups.pdf\n",
            " myplot.png\n",
            " network.json\n",
            " Numerical_Recipes.pdf\n",
            " thirty-days-of-vue-fullstackio.pdf\n",
            " vp8_720p5994_stockholm_ter_16.json\n"
          ],
          "name": "stdout"
        }
      ]
    },
    {
      "cell_type": "markdown",
      "metadata": {
        "id": "e9VQBAAhSLZ9",
        "colab_type": "text"
      },
      "source": [
        "#### Klasa Config"
      ]
    },
    {
      "cell_type": "code",
      "metadata": {
        "id": "4j6A0pMg3gu5",
        "colab_type": "code",
        "outputId": "7d7ed9fa-6056-48d8-e999-a7acf24639c0",
        "colab": {
          "base_uri": "https://localhost:8080/",
          "height": 55
        }
      },
      "source": [
        "import json\n",
        "\n",
        "class Config:\n",
        "    def __init__(self):\n",
        "        self.data = {}\n",
        "\n",
        "    def load_json(self, filename):\n",
        "      # \\todo assert filename ...\n",
        "      # \\todo try ... except\n",
        "      with open(filename, \"r\") as file:\n",
        "          self.data = json.load(file)\n",
        "\n",
        "    def save_json(self, filename):\n",
        "      pass\n",
        "\n",
        "# \\todo if __name__ ...\n",
        "cfg = Config()\n",
        "cfg.load_json(\"/content/drive/My Drive/network.json\")   # \\todo nazwa pliku z cmd line\n",
        "print(cfg.data)\n"
      ],
      "execution_count": 0,
      "outputs": [
        {
          "output_type": "stream",
          "text": [
            "{'batch size': 10, 'net': 'neta', 'image width': 784, 'image height': 0, 'number of classes': 10, 'number of epochs': 10, 'optimizer': 'Adam', 'optimizer parameters': {'lr': 0.001}}\n"
          ],
          "name": "stdout"
        }
      ]
    },
    {
      "cell_type": "code",
      "metadata": {
        "id": "qBNDz41z4mRn",
        "colab_type": "code",
        "outputId": "e504447e-c80e-4dd7-d852-6a0f870a4f9e",
        "colab": {
          "base_uri": "https://localhost:8080/",
          "height": 35
        }
      },
      "source": [
        "print(cfg)"
      ],
      "execution_count": 0,
      "outputs": [
        {
          "output_type": "stream",
          "text": [
            "<__main__.Config object at 0x7fa21983beb8>\n"
          ],
          "name": "stdout"
        }
      ]
    },
    {
      "cell_type": "code",
      "metadata": {
        "id": "877Ucd-15dFj",
        "colab_type": "code",
        "outputId": "a2e5adf2-2e31-43a7-bda3-c41bf8f196ad",
        "colab": {
          "base_uri": "https://localhost:8080/",
          "height": 172
        }
      },
      "source": [
        "print(cfg[\"net\"])"
      ],
      "execution_count": 0,
      "outputs": [
        {
          "output_type": "error",
          "ename": "TypeError",
          "evalue": "ignored",
          "traceback": [
            "\u001b[0;31m---------------------------------------------------------------------------\u001b[0m",
            "\u001b[0;31mTypeError\u001b[0m                                 Traceback (most recent call last)",
            "\u001b[0;32m<ipython-input-5-94a000f17510>\u001b[0m in \u001b[0;36m<module>\u001b[0;34m()\u001b[0m\n\u001b[0;32m----> 1\u001b[0;31m \u001b[0mprint\u001b[0m\u001b[0;34m(\u001b[0m\u001b[0mcfg\u001b[0m\u001b[0;34m[\u001b[0m\u001b[0;34m\"net\"\u001b[0m\u001b[0;34m]\u001b[0m\u001b[0;34m)\u001b[0m\u001b[0;34m\u001b[0m\u001b[0;34m\u001b[0m\u001b[0m\n\u001b[0m",
            "\u001b[0;31mTypeError\u001b[0m: 'Config' object is not subscriptable"
          ]
        }
      ]
    },
    {
      "cell_type": "code",
      "metadata": {
        "id": "OBtPNszn5k_t",
        "colab_type": "code",
        "colab": {}
      },
      "source": [
        "cfg.data[\"net\"]=\"netabc\"        # \\todo pole data w klasie Config powinno być prywatne\n",
        "cfg.save_json(\"net_abc.json\")"
      ],
      "execution_count": 0,
      "outputs": []
    },
    {
      "cell_type": "code",
      "metadata": {
        "id": "G-bkpO6D6Rcy",
        "colab_type": "code",
        "colab": {}
      },
      "source": [
        ""
      ],
      "execution_count": 0,
      "outputs": []
    },
    {
      "cell_type": "markdown",
      "metadata": {
        "id": "3fdr2ElTQNwR",
        "colab_type": "text"
      },
      "source": [
        "## [Standard XML](https://www.w3.org/XML/)"
      ]
    },
    {
      "cell_type": "markdown",
      "metadata": {
        "id": "WaHGqAj5QkQX",
        "colab_type": "text"
      },
      "source": [
        "\n",
        "\n",
        "```\n",
        "<?xml version='1.0' encoding='utf-8'?>\n",
        "<config>\n",
        "  <batch_size>10</batch_size>\n",
        "  <net>neta</net>\n",
        "  <image_width>784</image_width>\n",
        "  <image_height>0</image_height>\n",
        "  <number_of_classes>10</number_of_classes>\n",
        "  <number_of_epochs>10</number_of_epochs>\n",
        "  <optimizer>Adam</optimizer>\n",
        "</config>\n",
        "```\n",
        "\n"
      ]
    },
    {
      "cell_type": "markdown",
      "metadata": {
        "id": "S9nX3TtpRMu_",
        "colab_type": "text"
      },
      "source": [
        "## [Pliki .properties](https://en.wikipedia.org/wiki/.properties)"
      ]
    },
    {
      "cell_type": "markdown",
      "metadata": {
        "id": "9wptVWn-RvZH",
        "colab_type": "text"
      },
      "source": [
        "\n",
        "\n",
        "```\n",
        "batch.size=10\n",
        "net=neta\n",
        "image.width=784\n",
        "image.height=0\n",
        "number.of.classes=10\n",
        "number.of.epochs=10\n",
        "optimizer=Adam\n",
        "optimizer.parameters={'lr': 0.001}\n",
        "```\n",
        "\n"
      ]
    }
  ]
}